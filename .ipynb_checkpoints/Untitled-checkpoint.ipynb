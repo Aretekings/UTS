{
 "cells": [
  {
   "cell_type": "code",
   "execution_count": 19,
   "id": "7eb737d9",
   "metadata": {},
   "outputs": [
    {
     "name": "stdout",
     "output_type": "stream",
     "text": [
      "Curriculum Vitae\n",
      "Nama             :  Suhendri\n",
      "Alamat           :  Jl. adisucipto, sungai raya, kalbar\n",
      "Kebangsaan       :  Indonesia\n",
      "Jenis kelamin    :  laki-laki\n",
      "\n",
      "Edukasi Formal\n",
      "~ SMK IMMANUEL II SUNGA\n",
      "\n",
      "Edukasi Non-Formal\n",
      "~ Tidak ada\n",
      "\n",
      "Organisasi\n",
      "~ PPC, (pontianak Photography Community)\n",
      "\n",
      "Pencapaian\n",
      "~ Juara 2, Film cerita terbaik Nasional, BNPT\n",
      "\n"
     ]
    }
   ],
   "source": [
    "curi = \"Curriculum Vitae\"\n",
    "edu = \"Education\"\n",
    "\n",
    "nama = \"Suhendri\"\n",
    "alamat = \"Jl. adisucipto, sungai raya, kalbar\"\n",
    "nation = \"Indonesia\"\n",
    "kelamin = \"laki-laki\"\n",
    "\n",
    "sedu = \"\"\"~ SMK IMMANUEL II SUNGA\n",
    "\"\"\"\n",
    "nedu = \"\"\"~ Tidak ada\n",
    "\"\"\"\n",
    "ach = \"\"\"~ Juara 2, Film cerita terbaik Nasional, BNPT\n",
    "\"\"\"\n",
    "\n",
    "organisai = \"\"\"~ PPC, (pontianak Photography Community)\n",
    "\"\"\"\n",
    "\n",
    "#print~\n",
    "print(curi)\n",
    "\n",
    "print(\"Nama             : \", nama)\n",
    "print(\"Alamat           : \", alamat)\n",
    "print(\"Kebangsaan       : \", nation)\n",
    "print(\"Jenis kelamin    : \", kelamin)\n",
    "print ()\n",
    "print(\"Edukasi Formal\")\n",
    "print(sedu)\n",
    "print(\"Edukasi Non-Formal\")\n",
    "print(nedu)\n",
    "print(\"Organisasi\")\n",
    "print (organisai)\n",
    "print(\"Pencapaian\")\n",
    "print(ach)\n"
   ]
  },
  {
   "cell_type": "code",
   "execution_count": 20,
   "id": "c0279e54",
   "metadata": {},
   "outputs": [
    {
     "name": "stdout",
     "output_type": "stream",
     "text": [
      "Panjang : 1\n",
      "Lebar :2\n",
      "Luas Persegi Panjang Adalah :  2\n"
     ]
    }
   ],
   "source": [
    "panjang = int(input(\"Panjang : \"))\n",
    "lebar = int(input(\"Lebar :\"))\n",
    "\n",
    "luas = panjang*lebar\n",
    "\n",
    "print (\"Luas Persegi Panjang Adalah : \",luas) "
   ]
  },
  {
   "cell_type": "code",
   "execution_count": 21,
   "id": "3d1e6566",
   "metadata": {},
   "outputs": [
    {
     "name": "stdout",
     "output_type": "stream",
     "text": [
      "Celcius : 10\n",
      "Celcius    :  10\n",
      "Reamur     :  8.0\n",
      "Fahrenheit :  50.0\n"
     ]
    }
   ],
   "source": [
    "celcius = int(input(\"Celcius : \"))\n",
    "reamur = celcius*0.8\n",
    "fahrenheit = celcius*1.8 + 32\n",
    "    \n",
    "print(\"Celcius    : \",celcius)\n",
    "print(\"Reamur     : \",reamur)\n",
    "print(\"Fahrenheit : \",fahrenheit)"
   ]
  },
  {
   "cell_type": "code",
   "execution_count": 24,
   "id": "be1bbf0e",
   "metadata": {},
   "outputs": [
    {
     "name": "stdout",
     "output_type": "stream",
     "text": [
      "Masukkan Jumlah Detik :124124\n",
      "Hari  :  1\n",
      "Jam   :  10\n",
      "Menit :  29\n",
      "Detik :  44\n"
     ]
    }
   ],
   "source": [
    "detik = int(input(\"Masukkan Jumlah Detik :\"))\n",
    "\n",
    "hari = detik/86400\n",
    "temp0 = detik%86400\n",
    "jam = temp0/3600\n",
    "temp1 = temp0%3600\n",
    "menit = temp1/60\n",
    "detik = temp1%60\n",
    "\n",
    "print (\"Hari  : \",round(hari))\n",
    "print (\"Jam   : \",round(jam))\n",
    "print (\"Menit : \",round(menit))\n",
    "print (\"Detik : \",round(detik))"
   ]
  },
  {
   "cell_type": "code",
   "execution_count": 23,
   "id": "91eb62a4",
   "metadata": {},
   "outputs": [
    {
     "name": "stdout",
     "output_type": "stream",
     "text": [
      "Panjang jari-jari :20000\n",
      "Luas Lingkaran : 1257142857.142857\n"
     ]
    }
   ],
   "source": [
    "jari = int(input(\"Panjang jari-jari :\"))\n",
    "phi = 22/7\n",
    "luas = float(phi*jari**2)\n",
    "\n",
    "print (\"Luas Lingkaran :\", luas)"
   ]
  },
  {
   "cell_type": "code",
   "execution_count": null,
   "id": "810299b7",
   "metadata": {},
   "outputs": [],
   "source": []
  }
 ],
 "metadata": {
  "kernelspec": {
   "display_name": "Python 3",
   "language": "python",
   "name": "python3"
  },
  "language_info": {
   "codemirror_mode": {
    "name": "ipython",
    "version": 3
   },
   "file_extension": ".py",
   "mimetype": "text/x-python",
   "name": "python",
   "nbconvert_exporter": "python",
   "pygments_lexer": "ipython3",
   "version": "3.8.8"
  }
 },
 "nbformat": 4,
 "nbformat_minor": 5
}
